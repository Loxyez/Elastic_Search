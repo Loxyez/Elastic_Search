{
 "cells": [
  {
   "cell_type": "markdown",
   "metadata": {},
   "source": [
    "# Scrape data playground"
   ]
  },
  {
   "cell_type": "code",
   "execution_count": 22,
   "metadata": {},
   "outputs": [
    {
     "name": "stdout",
     "output_type": "stream",
     "text": [
      "<a class=\"image\" href=\"https://static.wikia.nocookie.net/dota2_gamepedia/images/f/fe/Alchemist_icon.png/revision/latest?cb=20160411210240\"><img alt=\"Alchemist icon.png\" class=\"lazyload\" data-image-key=\"Alchemist_icon.png\" data-image-name=\"Alchemist icon.png\" data-src=\"https://static.wikia.nocookie.net/dota2_gamepedia/images/f/fe/Alchemist_icon.png/revision/latest?cb=20160411210240\" decoding=\"async\" height=\"169\" src=\"data:image/gif;base64,R0lGODlhAQABAIABAAAAAP///yH5BAEAAAEALAAAAAABAAEAQAICTAEAOw%3D%3D\" width=\"300\"/></a>\n",
      "<img alt=\"Alchemist icon.png\" class=\"lazyload\" data-image-key=\"Alchemist_icon.png\" data-image-name=\"Alchemist icon.png\" data-src=\"https://static.wikia.nocookie.net/dota2_gamepedia/images/f/fe/Alchemist_icon.png/revision/latest?cb=20160411210240\" decoding=\"async\" height=\"169\" src=\"data:image/gif;base64,R0lGODlhAQABAIABAAAAAP///yH5BAEAAAEALAAAAAABAAEAQAICTAEAOw%3D%3D\" width=\"300\"/>\n"
     ]
    }
   ],
   "source": [
    "import requests\n",
    "from os.path  import basename\n",
    "import requests\n",
    "import shutil\n",
    "from bs4 import BeautifulSoup\n",
    "r = requests.get(\"https://dota2.fandom.com/wiki/Alchemist\")\n",
    "soup = BeautifulSoup(r.content, 'html.parser')\n",
    "# print(soup)\n",
    "\n",
    "\n",
    "warning = soup.find('a', class_=\"image\")\n",
    "\n",
    "print(warning)\n",
    "# img_container = warning.nextSibling\n",
    "# print(img_container)\n",
    "images = warning.findAll('img')\n",
    "print(images[0])\n",
    "full_url = images[0].attrs['data-src']"
   ]
  },
  {
   "cell_type": "code",
   "execution_count": 21,
   "metadata": {},
   "outputs": [],
   "source": [
    "r = requests.get(full_url, stream=True)\n",
    "if r.status_code == 200:                     #200 status code = OK\n",
    "    with open(\"images/book1.jpg\", 'wb') as f: \n",
    "        r.raw.decode_content = True\n",
    "        shutil.copyfileobj(r.raw, f)"
   ]
  },
  {
   "cell_type": "code",
   "execution_count": 28,
   "metadata": {},
   "outputs": [
    {
     "name": "stdout",
     "output_type": "stream",
     "text": [
      "https://static.wikia.nocookie.net/leagueoflegends/images/5/58/Aatrox_Render.png/revision/latest/scale-to-width-down/254?cb=20200324150018\n"
     ]
    }
   ],
   "source": [
    "import requests\n",
    "from os.path  import basename\n",
    "import requests\n",
    "import shutil\n",
    "from bs4 import BeautifulSoup\n",
    "url = f\"https://leagueoflegends.fandom.com/wiki/Aatrox/LoL\"\n",
    "res = requests.get(url)\n",
    "res.encoding = \"utf-8\"\n",
    "\n",
    "if res.status_code == 200:\n",
    "    soup = BeautifulSoup(res.text, 'html.parser')\n",
    "    # print(soup)\n",
    "    images = soup.find('img', attrs={'class':'pi-image-thumbnail'}).attrs['src']\n",
    "    print(images)"
   ]
  },
  {
   "cell_type": "code",
   "execution_count": null,
   "metadata": {},
   "outputs": [],
   "source": []
  },
  {
   "cell_type": "markdown",
   "metadata": {},
   "source": [
    "# EDA Data"
   ]
  },
  {
   "cell_type": "code",
   "execution_count": 1,
   "metadata": {},
   "outputs": [],
   "source": [
    "import pandas as pd "
   ]
  },
  {
   "cell_type": "code",
   "execution_count": 2,
   "metadata": {},
   "outputs": [],
   "source": [
    "df = pd.read_csv(\"/Users/kontawat/Documents/ICT/IR/Elastic_Search/Data_Dota.csv\")"
   ]
  },
  {
   "cell_type": "code",
   "execution_count": 3,
   "metadata": {},
   "outputs": [
    {
     "data": {
      "text/html": [
       "<div>\n",
       "<style scoped>\n",
       "    .dataframe tbody tr th:only-of-type {\n",
       "        vertical-align: middle;\n",
       "    }\n",
       "\n",
       "    .dataframe tbody tr th {\n",
       "        vertical-align: top;\n",
       "    }\n",
       "\n",
       "    .dataframe thead th {\n",
       "        text-align: right;\n",
       "    }\n",
       "</style>\n",
       "<table border=\"1\" class=\"dataframe\">\n",
       "  <thead>\n",
       "    <tr style=\"text-align: right;\">\n",
       "      <th></th>\n",
       "      <th>Name</th>\n",
       "      <th>Type</th>\n",
       "      <th>Skills</th>\n",
       "      <th>Bio</th>\n",
       "      <th>File_name</th>\n",
       "    </tr>\n",
       "  </thead>\n",
       "  <tbody>\n",
       "    <tr>\n",
       "      <th>0</th>\n",
       "      <td>Abaddon</td>\n",
       "      <td>['support', 'carry', 'durable']</td>\n",
       "      <td>['Mist Coil ', 'Aphotic Shield', 'Curse of Ave...</td>\n",
       "      <td>The Font of Avernus is the source of a family'...</td>\n",
       "      <td>Abaddon_image.jpg</td>\n",
       "    </tr>\n",
       "    <tr>\n",
       "      <th>1</th>\n",
       "      <td>Alchemist</td>\n",
       "      <td>['carry', 'support', 'durable', 'disabler', 'i...</td>\n",
       "      <td>['Acid Spray', 'Unstable Concoction ', 'Unstab...</td>\n",
       "      <td>The sacred science of Chymistry was a Darkbrew...</td>\n",
       "      <td>Alchemist_image.jpg</td>\n",
       "    </tr>\n",
       "    <tr>\n",
       "      <th>2</th>\n",
       "      <td>Axe</td>\n",
       "      <td>['initiator', 'durable', 'disabler', 'jungler'...</td>\n",
       "      <td>[\"Berserker's Call \", 'Battle Hunger ', 'Count...</td>\n",
       "      <td>As a grunt in the Army of Red Mist, Mogul Khan...</td>\n",
       "      <td>Axe_image.jpg</td>\n",
       "    </tr>\n",
       "    <tr>\n",
       "      <th>3</th>\n",
       "      <td>Beastmaster</td>\n",
       "      <td>['initiator', 'disabler', 'durable', 'nuker']</td>\n",
       "      <td>['Wild Axes', 'Call of the Wild Boar', 'Call o...</td>\n",
       "      <td>Karroch was born a child of the stocks. His mo...</td>\n",
       "      <td>Beastmaster_image.jpg</td>\n",
       "    </tr>\n",
       "    <tr>\n",
       "      <th>4</th>\n",
       "      <td>Brewmaster</td>\n",
       "      <td>['carry', 'initiator', 'durable', 'disabler', ...</td>\n",
       "      <td>['Thunder Clap', 'Cinder Brew ', 'Drunken Braw...</td>\n",
       "      <td>Deep in the Wailing Mountains, in a valley ben...</td>\n",
       "      <td>Brewmaster_image.jpg</td>\n",
       "    </tr>\n",
       "    <tr>\n",
       "      <th>...</th>\n",
       "      <td>...</td>\n",
       "      <td>...</td>\n",
       "      <td>...</td>\n",
       "      <td>...</td>\n",
       "      <td>...</td>\n",
       "    </tr>\n",
       "    <tr>\n",
       "      <th>118</th>\n",
       "      <td>Warlock</td>\n",
       "      <td>['support', 'initiator', 'disabler']</td>\n",
       "      <td>['Fatal Bonds ', 'Shadow Word ', 'Upheaval']</td>\n",
       "      <td>As Chief Curator and Head of Acquisitions for ...</td>\n",
       "      <td>Warlock_image.jpg</td>\n",
       "    </tr>\n",
       "    <tr>\n",
       "      <th>119</th>\n",
       "      <td>Windranger</td>\n",
       "      <td>['carry', 'support', 'disabler', 'escape', 'nu...</td>\n",
       "      <td>['Shackleshot ', 'Powershot', 'Windrun']</td>\n",
       "      <td>The western forests guard their secrets well. ...</td>\n",
       "      <td>Windranger_image.jpg</td>\n",
       "    </tr>\n",
       "    <tr>\n",
       "      <th>120</th>\n",
       "      <td>Winter Wyvern</td>\n",
       "      <td>['support', 'disabler', 'nuker']</td>\n",
       "      <td>['Arctic Burn ', 'Splinter Blast ', 'Cold Embr...</td>\n",
       "      <td>Like many great poets, Auroth just wants time ...</td>\n",
       "      <td>Winter Wyvern_image.jpg</td>\n",
       "    </tr>\n",
       "    <tr>\n",
       "      <th>121</th>\n",
       "      <td>Witch Doctor</td>\n",
       "      <td>['support', 'nuker', 'disabler']</td>\n",
       "      <td>['Paralyzing Cask ', 'Voodoo Restoration ', 'M...</td>\n",
       "      <td>A wiry silhouette hitches forward—uneven of fe...</td>\n",
       "      <td>Witch Doctor_image.jpg</td>\n",
       "    </tr>\n",
       "    <tr>\n",
       "      <th>122</th>\n",
       "      <td>Zeus</td>\n",
       "      <td>['nuker', 'carry']</td>\n",
       "      <td>['Arc Lightning ', 'Lightning Bolt ', 'Heavenl...</td>\n",
       "      <td>Lord of Heaven, father of gods, Zeus treats al...</td>\n",
       "      <td>Zeus_image.jpg</td>\n",
       "    </tr>\n",
       "  </tbody>\n",
       "</table>\n",
       "<p>123 rows × 5 columns</p>\n",
       "</div>"
      ],
      "text/plain": [
       "              Name                                               Type  \\\n",
       "0          Abaddon                    ['support', 'carry', 'durable']   \n",
       "1        Alchemist  ['carry', 'support', 'durable', 'disabler', 'i...   \n",
       "2              Axe  ['initiator', 'durable', 'disabler', 'jungler'...   \n",
       "3      Beastmaster      ['initiator', 'disabler', 'durable', 'nuker']   \n",
       "4       Brewmaster  ['carry', 'initiator', 'durable', 'disabler', ...   \n",
       "..             ...                                                ...   \n",
       "118        Warlock               ['support', 'initiator', 'disabler']   \n",
       "119     Windranger  ['carry', 'support', 'disabler', 'escape', 'nu...   \n",
       "120  Winter Wyvern                   ['support', 'disabler', 'nuker']   \n",
       "121   Witch Doctor                   ['support', 'nuker', 'disabler']   \n",
       "122           Zeus                                 ['nuker', 'carry']   \n",
       "\n",
       "                                                Skills  \\\n",
       "0    ['Mist Coil ', 'Aphotic Shield', 'Curse of Ave...   \n",
       "1    ['Acid Spray', 'Unstable Concoction ', 'Unstab...   \n",
       "2    [\"Berserker's Call \", 'Battle Hunger ', 'Count...   \n",
       "3    ['Wild Axes', 'Call of the Wild Boar', 'Call o...   \n",
       "4    ['Thunder Clap', 'Cinder Brew ', 'Drunken Braw...   \n",
       "..                                                 ...   \n",
       "118       ['Fatal Bonds ', 'Shadow Word ', 'Upheaval']   \n",
       "119           ['Shackleshot ', 'Powershot', 'Windrun']   \n",
       "120  ['Arctic Burn ', 'Splinter Blast ', 'Cold Embr...   \n",
       "121  ['Paralyzing Cask ', 'Voodoo Restoration ', 'M...   \n",
       "122  ['Arc Lightning ', 'Lightning Bolt ', 'Heavenl...   \n",
       "\n",
       "                                                   Bio  \\\n",
       "0    The Font of Avernus is the source of a family'...   \n",
       "1    The sacred science of Chymistry was a Darkbrew...   \n",
       "2    As a grunt in the Army of Red Mist, Mogul Khan...   \n",
       "3    Karroch was born a child of the stocks. His mo...   \n",
       "4    Deep in the Wailing Mountains, in a valley ben...   \n",
       "..                                                 ...   \n",
       "118  As Chief Curator and Head of Acquisitions for ...   \n",
       "119  The western forests guard their secrets well. ...   \n",
       "120  Like many great poets, Auroth just wants time ...   \n",
       "121  A wiry silhouette hitches forward—uneven of fe...   \n",
       "122  Lord of Heaven, father of gods, Zeus treats al...   \n",
       "\n",
       "                   File_name  \n",
       "0          Abaddon_image.jpg  \n",
       "1        Alchemist_image.jpg  \n",
       "2              Axe_image.jpg  \n",
       "3      Beastmaster_image.jpg  \n",
       "4       Brewmaster_image.jpg  \n",
       "..                       ...  \n",
       "118        Warlock_image.jpg  \n",
       "119     Windranger_image.jpg  \n",
       "120  Winter Wyvern_image.jpg  \n",
       "121   Witch Doctor_image.jpg  \n",
       "122           Zeus_image.jpg  \n",
       "\n",
       "[123 rows x 5 columns]"
      ]
     },
     "execution_count": 3,
     "metadata": {},
     "output_type": "execute_result"
    }
   ],
   "source": [
    "df"
   ]
  },
  {
   "cell_type": "code",
   "execution_count": 4,
   "metadata": {},
   "outputs": [
    {
     "data": {
      "text/html": [
       "<div>\n",
       "<style scoped>\n",
       "    .dataframe tbody tr th:only-of-type {\n",
       "        vertical-align: middle;\n",
       "    }\n",
       "\n",
       "    .dataframe tbody tr th {\n",
       "        vertical-align: top;\n",
       "    }\n",
       "\n",
       "    .dataframe thead th {\n",
       "        text-align: right;\n",
       "    }\n",
       "</style>\n",
       "<table border=\"1\" class=\"dataframe\">\n",
       "  <thead>\n",
       "    <tr style=\"text-align: right;\">\n",
       "      <th></th>\n",
       "      <th>Name</th>\n",
       "      <th>Type</th>\n",
       "      <th>Skills</th>\n",
       "      <th>Bio</th>\n",
       "      <th>File_name</th>\n",
       "    </tr>\n",
       "  </thead>\n",
       "  <tbody>\n",
       "    <tr>\n",
       "      <th>count</th>\n",
       "      <td>123</td>\n",
       "      <td>123</td>\n",
       "      <td>123</td>\n",
       "      <td>123</td>\n",
       "      <td>123</td>\n",
       "    </tr>\n",
       "    <tr>\n",
       "      <th>unique</th>\n",
       "      <td>123</td>\n",
       "      <td>105</td>\n",
       "      <td>123</td>\n",
       "      <td>123</td>\n",
       "      <td>123</td>\n",
       "    </tr>\n",
       "    <tr>\n",
       "      <th>top</th>\n",
       "      <td>Abaddon</td>\n",
       "      <td>['support', 'nuker', 'disabler', 'escape']</td>\n",
       "      <td>['Mist Coil ', 'Aphotic Shield', 'Curse of Ave...</td>\n",
       "      <td>The Font of Avernus is the source of a family'...</td>\n",
       "      <td>Abaddon_image.jpg</td>\n",
       "    </tr>\n",
       "    <tr>\n",
       "      <th>freq</th>\n",
       "      <td>1</td>\n",
       "      <td>4</td>\n",
       "      <td>1</td>\n",
       "      <td>1</td>\n",
       "      <td>1</td>\n",
       "    </tr>\n",
       "  </tbody>\n",
       "</table>\n",
       "</div>"
      ],
      "text/plain": [
       "           Name                                        Type  \\\n",
       "count       123                                         123   \n",
       "unique      123                                         105   \n",
       "top     Abaddon  ['support', 'nuker', 'disabler', 'escape']   \n",
       "freq          1                                           4   \n",
       "\n",
       "                                                   Skills  \\\n",
       "count                                                 123   \n",
       "unique                                                123   \n",
       "top     ['Mist Coil ', 'Aphotic Shield', 'Curse of Ave...   \n",
       "freq                                                    1   \n",
       "\n",
       "                                                      Bio          File_name  \n",
       "count                                                 123                123  \n",
       "unique                                                123                123  \n",
       "top     The Font of Avernus is the source of a family'...  Abaddon_image.jpg  \n",
       "freq                                                    1                  1  "
      ]
     },
     "execution_count": 4,
     "metadata": {},
     "output_type": "execute_result"
    }
   ],
   "source": [
    "df.describe()"
   ]
  },
  {
   "cell_type": "code",
   "execution_count": null,
   "metadata": {},
   "outputs": [],
   "source": []
  }
 ],
 "metadata": {
  "kernelspec": {
   "display_name": "Python 3.10.6 ('IR')",
   "language": "python",
   "name": "python3"
  },
  "language_info": {
   "codemirror_mode": {
    "name": "ipython",
    "version": 3
   },
   "file_extension": ".py",
   "mimetype": "text/x-python",
   "name": "python",
   "nbconvert_exporter": "python",
   "pygments_lexer": "ipython3",
   "version": "3.10.8"
  },
  "orig_nbformat": 4,
  "vscode": {
   "interpreter": {
    "hash": "8986213b47bedb5463ee38c3fffacee0f8928a78a0333fbc7a5920b23ed0f804"
   }
  }
 },
 "nbformat": 4,
 "nbformat_minor": 2
}
