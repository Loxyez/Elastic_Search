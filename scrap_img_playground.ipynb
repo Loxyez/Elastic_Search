{
 "cells": [
  {
   "cell_type": "code",
   "execution_count": 22,
   "metadata": {},
   "outputs": [
    {
     "name": "stdout",
     "output_type": "stream",
     "text": [
      "<a class=\"image\" href=\"https://static.wikia.nocookie.net/dota2_gamepedia/images/f/fe/Alchemist_icon.png/revision/latest?cb=20160411210240\"><img alt=\"Alchemist icon.png\" class=\"lazyload\" data-image-key=\"Alchemist_icon.png\" data-image-name=\"Alchemist icon.png\" data-src=\"https://static.wikia.nocookie.net/dota2_gamepedia/images/f/fe/Alchemist_icon.png/revision/latest?cb=20160411210240\" decoding=\"async\" height=\"169\" src=\"data:image/gif;base64,R0lGODlhAQABAIABAAAAAP///yH5BAEAAAEALAAAAAABAAEAQAICTAEAOw%3D%3D\" width=\"300\"/></a>\n",
      "<img alt=\"Alchemist icon.png\" class=\"lazyload\" data-image-key=\"Alchemist_icon.png\" data-image-name=\"Alchemist icon.png\" data-src=\"https://static.wikia.nocookie.net/dota2_gamepedia/images/f/fe/Alchemist_icon.png/revision/latest?cb=20160411210240\" decoding=\"async\" height=\"169\" src=\"data:image/gif;base64,R0lGODlhAQABAIABAAAAAP///yH5BAEAAAEALAAAAAABAAEAQAICTAEAOw%3D%3D\" width=\"300\"/>\n"
     ]
    }
   ],
   "source": [
    "import requests\n",
    "from os.path  import basename\n",
    "import requests\n",
    "import shutil\n",
    "from bs4 import BeautifulSoup\n",
    "r = requests.get(\"https://dota2.fandom.com/wiki/Alchemist\")\n",
    "soup = BeautifulSoup(r.content, 'html.parser')\n",
    "# print(soup)\n",
    "\n",
    "\n",
    "warning = soup.find('a', class_=\"image\")\n",
    "\n",
    "print(warning)\n",
    "# img_container = warning.nextSibling\n",
    "# print(img_container)\n",
    "images = warning.findAll('img')\n",
    "print(images[0])\n",
    "full_url = images[0].attrs['data-src']"
   ]
  },
  {
   "cell_type": "code",
   "execution_count": 21,
   "metadata": {},
   "outputs": [],
   "source": [
    "r = requests.get(full_url, stream=True)\n",
    "if r.status_code == 200:                     #200 status code = OK\n",
    "    with open(\"images/book1.jpg\", 'wb') as f: \n",
    "        r.raw.decode_content = True\n",
    "        shutil.copyfileobj(r.raw, f)"
   ]
  },
  {
   "cell_type": "code",
   "execution_count": 28,
   "metadata": {},
   "outputs": [
    {
     "name": "stdout",
     "output_type": "stream",
     "text": [
      "https://static.wikia.nocookie.net/leagueoflegends/images/5/58/Aatrox_Render.png/revision/latest/scale-to-width-down/254?cb=20200324150018\n"
     ]
    }
   ],
   "source": [
    "import requests\n",
    "from os.path  import basename\n",
    "import requests\n",
    "import shutil\n",
    "from bs4 import BeautifulSoup\n",
    "url = f\"https://leagueoflegends.fandom.com/wiki/Aatrox/LoL\"\n",
    "res = requests.get(url)\n",
    "res.encoding = \"utf-8\"\n",
    "\n",
    "if res.status_code == 200:\n",
    "    soup = BeautifulSoup(res.text, 'html.parser')\n",
    "    # print(soup)\n",
    "    images = soup.find('img', attrs={'class':'pi-image-thumbnail'}).attrs['src']\n",
    "    print(images)"
   ]
  },
  {
   "cell_type": "code",
   "execution_count": null,
   "metadata": {},
   "outputs": [],
   "source": []
  }
 ],
 "metadata": {
  "kernelspec": {
   "display_name": "Python 3.10.6 ('IR')",
   "language": "python",
   "name": "python3"
  },
  "language_info": {
   "codemirror_mode": {
    "name": "ipython",
    "version": 3
   },
   "file_extension": ".py",
   "mimetype": "text/x-python",
   "name": "python",
   "nbconvert_exporter": "python",
   "pygments_lexer": "ipython3",
   "version": "3.10.6"
  },
  "orig_nbformat": 4,
  "vscode": {
   "interpreter": {
    "hash": "8986213b47bedb5463ee38c3fffacee0f8928a78a0333fbc7a5920b23ed0f804"
   }
  }
 },
 "nbformat": 4,
 "nbformat_minor": 2
}
